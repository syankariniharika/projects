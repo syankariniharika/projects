{
  "nbformat": 4,
  "nbformat_minor": 0,
  "metadata": {
    "colab": {
      "name": "web scraping-NewNb.ipynb",
      "provenance": [],
      "collapsed_sections": [],
      "include_colab_link": true
    },
    "kernelspec": {
      "name": "python3",
      "display_name": "Python 3"
    }
  },
  "cells": [
    {
      "cell_type": "markdown",
      "metadata": {
        "id": "view-in-github",
        "colab_type": "text"
      },
      "source": [
        "<a href=\"https://colab.research.google.com/github/syankariniharika/projects/blob/main/web_scraping_NewNb.ipynb\" target=\"_parent\"><img src=\"https://colab.research.google.com/assets/colab-badge.svg\" alt=\"Open In Colab\"/></a>"
      ]
    },
    {
      "cell_type": "code",
      "metadata": {
        "id": "8EZF0j1kwil2"
      },
      "source": [
        "import requests\r\n",
        "from bs4 import BeautifulSoup\r\n",
        "import time\r\n",
        "from IPython.display import clear_output\r\n",
        "base_url='https://www.makaan.com/hyderabad-residential-property/buy-property-in-hyderabad-city?beds=3&page='\r\n"
      ],
      "execution_count": null,
      "outputs": []
    },
    {
      "cell_type": "code",
      "metadata": {
        "id": "zIKW3AF9x-RZ"
      },
      "source": [
        "def get_seller_info(soup):\r\n",
        "  ''' functinos for scraping seller information \r\n",
        "  arguments:\r\n",
        "  soup-soupf objects from beautifulsoup\r\n",
        "  return-s_info-seller_info'''\r\n",
        "  \r\n",
        "  s_inf=soup.find_all('span',attrs={'class':'seller-type'})\r\n",
        "  s_info=[s.text for s in s_inf]\r\n",
        "  return s_info\r\n",
        "\r\n",
        "def get_bhk(soup):\r\n",
        "  bhk_1=soup.find_all('a',attrs={'data-type':'listing-link'})\r\n",
        "  bhk=[x.span.text.strip() for x in bhk_1]\r\n",
        "  return bhk\r\n",
        "\r\n",
        "def get_price(soup):\r\n",
        "  prc_1=soup.find_all('div',attrs={'data-type':'price-link'})\r\n",
        "  price=[i.text for i in prc_1]\r\n",
        "  return price\r\n",
        "\r\n",
        "def get_locality(soup):\r\n",
        "  loc=soup.find_all('span',attrs={'itemprop':'addressLocality'})\r\n",
        "  locality=[x.text for x in loc]\r\n",
        "  return locality\r\n",
        "\r\n",
        "def get_area_sqft(soup):\r\n",
        "  a=soup.find_all('td',attrs={'class':'lbl rate'})\r\n",
        "  area_sqft=[s.text for s in a]\r\n",
        "  return area_sqft\r\n",
        "\r\n",
        "def get_area(soup):\r\n",
        "  ar=soup.find_all('td',attrs={'class':'size'})\r\n",
        "  area=[s.text for s in ar]\r\n",
        "  return area\r\n",
        "\r\n",
        "def get_constructions_status(soup):\r\n",
        "  st=soup.find_all('td',attrs={'class':'val'})\r\n",
        "  status=[x.text for x in st]\r\n",
        "  return status\r\n",
        "\r\n",
        "def get_no_bathrooms(soup):\r\n",
        "  bh=soup.find_all('ul',attrs={'class':'listing-details'})\r\n",
        "  b_rooms=[]\r\n",
        "  for j in bh:\r\n",
        "    try:\r\n",
        "      b_rooms.append(j.li.text.split(' ')[0])\r\n",
        "    except AttributeError:\r\n",
        "      b_rooms.append('None')\r\n",
        "  return b_rooms\r\n",
        "\r\n",
        "\r\n"
      ],
      "execution_count": null,
      "outputs": []
    },
    {
      "cell_type": "code",
      "metadata": {
        "id": "u8aHze8vFXm8"
      },
      "source": [
        "def Scrapedate(url,num_pages):\r\n",
        "\r\n",
        "  global base_url\r\n",
        "\r\n",
        "  sel_info=[]\r\n",
        "  no_bhk=[]\r\n",
        "  price=[]\r\n",
        "  area=[]\r\n",
        "  locality=[]\r\n",
        "  area_sqft=[]\r\n",
        "  status=[]\r\n",
        "  no_bathrooms=[]\r\n",
        "\r\n",
        "  for i in range(1,num_pages):\r\n",
        "\r\n",
        "    time.sleep(3)\r\n",
        "    print(f'page no:{i}')\r\n",
        "    clear_output(wait=True)\r\n",
        "\r\n",
        "    url=base_url+str(i)\r\n",
        "    request=requests.get(url)\r\n",
        "    soup=BeautifulSoup(request.content,'html')\r\n",
        "\r\n",
        "    seller_info=get_seller_info(soup)\r\n",
        "    for i in seller_info:\r\n",
        "      sel_info.append(i)\r\n",
        "\r\n",
        "    bhk=get_bhk(soup)\r\n",
        "    for i in bhk:\r\n",
        "      no_bhk.append(i)\r\n",
        "\r\n",
        "    prc=get_price(soup)\r\n",
        "    for i in prc:\r\n",
        "      price.append(i)\r\n",
        "\r\n",
        "    ara=get_area(soup)\r\n",
        "    for i in ara:\r\n",
        "      area.append(i)\r\n",
        "\r\n",
        "    ar_sqft=get_area_sqft(soup)\r\n",
        "    for i in ar_sqft:\r\n",
        "      area_sqft.append(i)\r\n",
        "\r\n",
        "    loc=get_locality(soup)\r\n",
        "    for i in loc:\r\n",
        "      locality.append(i)\r\n",
        "\r\n",
        "    bathrooms=get_no_bathrooms(soup)\r\n",
        "    for i in bathrooms:\r\n",
        "      no_bathrooms.append(i)\r\n",
        "\r\n",
        "    sts=get_constructions_status(soup)\r\n",
        "    for i in sts:\r\n",
        "      status.append(i)\r\n",
        "\r\n",
        "  return sel_info,no_bhk,price,area,locality,area_sqft,no_bathrooms,status"
      ],
      "execution_count": null,
      "outputs": []
    },
    {
      "cell_type": "code",
      "metadata": {
        "colab": {
          "base_uri": "https://localhost:8080/"
        },
        "id": "OhG8o6ZdI8f0",
        "outputId": "9b76ce66-e16d-4cca-96d3-065a3a2aa05e"
      },
      "source": [
        "sel_info,no_bhk,price,area,locality,area_sqft,no_bathrooms,status=Scrapedate(base_url,501)"
      ],
      "execution_count": null,
      "outputs": [
        {
          "output_type": "stream",
          "text": [
            "page no:500\n"
          ],
          "name": "stdout"
        }
      ]
    },
    {
      "cell_type": "code",
      "metadata": {
        "colab": {
          "base_uri": "https://localhost:8080/"
        },
        "id": "4UJIEDqwX3f2",
        "outputId": "ec78cc78-7eb8-411a-a068-650b3b65cd3c"
      },
      "source": [
        "print(len(sel_info))\r\n",
        "print(len(no_bhk))\r\n",
        "print(len(price))\r\n",
        "print(len(area))\r\n",
        "print(len(locality))\r\n",
        "print(len(area_sqft))\r\n",
        "print(len(no_bathrooms))\r\n",
        "print(len(status))"
      ],
      "execution_count": null,
      "outputs": [
        {
          "output_type": "stream",
          "text": [
            "10000\n",
            "10000\n",
            "10000\n",
            "10000\n",
            "10000\n",
            "10000\n",
            "10000\n",
            "10000\n"
          ],
          "name": "stdout"
        }
      ]
    },
    {
      "cell_type": "code",
      "metadata": {
        "id": "yr_exgDg6jwo",
        "colab": {
          "base_uri": "https://localhost:8080/",
          "height": 415
        },
        "outputId": "31489896-38f7-46c4-e75e-f5672e3a0cdb"
      },
      "source": [
        "\r\n",
        "import pandas as pd \r\n",
        "data=pd.DataFrame({'sel_info':sel_info,'no_bhk':no_bhk,'price':price,'area':area,'locality':locality,'area_sqft':area_sqft,'bathrooms':no_bathrooms,'status':status})\r\n",
        "data"
      ],
      "execution_count": null,
      "outputs": [
        {
          "output_type": "execute_result",
          "data": {
            "text/html": [
              "<div>\n",
              "<style scoped>\n",
              "    .dataframe tbody tr th:only-of-type {\n",
              "        vertical-align: middle;\n",
              "    }\n",
              "\n",
              "    .dataframe tbody tr th {\n",
              "        vertical-align: top;\n",
              "    }\n",
              "\n",
              "    .dataframe thead th {\n",
              "        text-align: right;\n",
              "    }\n",
              "</style>\n",
              "<table border=\"1\" class=\"dataframe\">\n",
              "  <thead>\n",
              "    <tr style=\"text-align: right;\">\n",
              "      <th></th>\n",
              "      <th>sel_info</th>\n",
              "      <th>no_bhk</th>\n",
              "      <th>price</th>\n",
              "      <th>area</th>\n",
              "      <th>locality</th>\n",
              "      <th>area_sqft</th>\n",
              "      <th>bathrooms</th>\n",
              "      <th>status</th>\n",
              "    </tr>\n",
              "  </thead>\n",
              "  <tbody>\n",
              "    <tr>\n",
              "      <th>0</th>\n",
              "      <td>BUILDER</td>\n",
              "      <td>3</td>\n",
              "      <td>1.69 Cr</td>\n",
              "      <td>2950</td>\n",
              "      <td>Yapral</td>\n",
              "      <td>5,756 / sq ft</td>\n",
              "      <td>Possession</td>\n",
              "      <td>Under Construction</td>\n",
              "    </tr>\n",
              "    <tr>\n",
              "      <th>1</th>\n",
              "      <td>BUILDER</td>\n",
              "      <td>3</td>\n",
              "      <td>63.94 L</td>\n",
              "      <td>1421</td>\n",
              "      <td>Shankarpalli</td>\n",
              "      <td>4,500 / sq ft</td>\n",
              "      <td>Possession</td>\n",
              "      <td>Under Construction</td>\n",
              "    </tr>\n",
              "    <tr>\n",
              "      <th>2</th>\n",
              "      <td>BUILDER</td>\n",
              "      <td>3</td>\n",
              "      <td>88.03 L</td>\n",
              "      <td>1834</td>\n",
              "      <td>Kompally</td>\n",
              "      <td>4,800 / sq ft</td>\n",
              "      <td>Possession</td>\n",
              "      <td>Under Construction</td>\n",
              "    </tr>\n",
              "    <tr>\n",
              "      <th>3</th>\n",
              "      <td>BUILDER</td>\n",
              "      <td>3</td>\n",
              "      <td>74.02 L</td>\n",
              "      <td>1575</td>\n",
              "      <td>Kompally</td>\n",
              "      <td>4,700 / sq ft</td>\n",
              "      <td>Possession</td>\n",
              "      <td>Under Construction</td>\n",
              "    </tr>\n",
              "    <tr>\n",
              "      <th>4</th>\n",
              "      <td>BUILDER</td>\n",
              "      <td>3</td>\n",
              "      <td>97.46 L</td>\n",
              "      <td>1572</td>\n",
              "      <td>Miyapur</td>\n",
              "      <td>6,200 / sq ft</td>\n",
              "      <td>Possession</td>\n",
              "      <td>Under Construction</td>\n",
              "    </tr>\n",
              "    <tr>\n",
              "      <th>...</th>\n",
              "      <td>...</td>\n",
              "      <td>...</td>\n",
              "      <td>...</td>\n",
              "      <td>...</td>\n",
              "      <td>...</td>\n",
              "      <td>...</td>\n",
              "      <td>...</td>\n",
              "      <td>...</td>\n",
              "    </tr>\n",
              "    <tr>\n",
              "      <th>9995</th>\n",
              "      <td>AGENT</td>\n",
              "      <td>3</td>\n",
              "      <td>65 L</td>\n",
              "      <td>1470</td>\n",
              "      <td>Attapur</td>\n",
              "      <td>4,421 / sq ft</td>\n",
              "      <td>Possession</td>\n",
              "      <td>Under Construction</td>\n",
              "    </tr>\n",
              "    <tr>\n",
              "      <th>9996</th>\n",
              "      <td>AGENT</td>\n",
              "      <td>3</td>\n",
              "      <td>64 L</td>\n",
              "      <td>1455</td>\n",
              "      <td>Attapur</td>\n",
              "      <td>4,398 / sq ft</td>\n",
              "      <td>3</td>\n",
              "      <td>Under Construction</td>\n",
              "    </tr>\n",
              "    <tr>\n",
              "      <th>9997</th>\n",
              "      <td>AGENT</td>\n",
              "      <td>3</td>\n",
              "      <td>1.37 Cr</td>\n",
              "      <td>1849</td>\n",
              "      <td>Tellapur</td>\n",
              "      <td>7,441 / sq ft</td>\n",
              "      <td>121</td>\n",
              "      <td>Ready to move</td>\n",
              "    </tr>\n",
              "    <tr>\n",
              "      <th>9998</th>\n",
              "      <td>BUILDER</td>\n",
              "      <td>3</td>\n",
              "      <td>80 L</td>\n",
              "      <td>2500</td>\n",
              "      <td>Dammaiguda</td>\n",
              "      <td>3,200 / sq ft</td>\n",
              "      <td>4</td>\n",
              "      <td>Ready to move</td>\n",
              "    </tr>\n",
              "    <tr>\n",
              "      <th>9999</th>\n",
              "      <td>BUILDER</td>\n",
              "      <td>3</td>\n",
              "      <td>65.44 L</td>\n",
              "      <td>2424</td>\n",
              "      <td>Kompally</td>\n",
              "      <td>2,700 / sq ft</td>\n",
              "      <td>Possession</td>\n",
              "      <td>Under Construction</td>\n",
              "    </tr>\n",
              "  </tbody>\n",
              "</table>\n",
              "<p>10000 rows × 8 columns</p>\n",
              "</div>"
            ],
            "text/plain": [
              "     sel_info no_bhk     price  ...      area_sqft   bathrooms              status\n",
              "0     BUILDER      3   1.69 Cr  ...  5,756 / sq ft  Possession  Under Construction\n",
              "1     BUILDER      3   63.94 L  ...  4,500 / sq ft  Possession  Under Construction\n",
              "2     BUILDER      3   88.03 L  ...  4,800 / sq ft  Possession  Under Construction\n",
              "3     BUILDER      3   74.02 L  ...  4,700 / sq ft  Possession  Under Construction\n",
              "4     BUILDER      3   97.46 L  ...  6,200 / sq ft  Possession  Under Construction\n",
              "...       ...    ...       ...  ...            ...         ...                 ...\n",
              "9995    AGENT      3      65 L  ...  4,421 / sq ft  Possession  Under Construction\n",
              "9996    AGENT      3      64 L  ...  4,398 / sq ft           3  Under Construction\n",
              "9997    AGENT      3   1.37 Cr  ...  7,441 / sq ft         121       Ready to move\n",
              "9998  BUILDER      3      80 L  ...  3,200 / sq ft           4       Ready to move\n",
              "9999  BUILDER      3   65.44 L  ...  2,700 / sq ft  Possession  Under Construction\n",
              "\n",
              "[10000 rows x 8 columns]"
            ]
          },
          "metadata": {
            "tags": []
          },
          "execution_count": 6
        }
      ]
    },
    {
      "cell_type": "code",
      "metadata": {
        "id": "ccvNiujF-mHH"
      },
      "source": [
        ""
      ],
      "execution_count": null,
      "outputs": []
    }
  ]
}